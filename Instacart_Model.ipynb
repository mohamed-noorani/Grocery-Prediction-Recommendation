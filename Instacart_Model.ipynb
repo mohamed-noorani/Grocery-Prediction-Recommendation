{
  "nbformat": 4,
  "nbformat_minor": 0,
  "metadata": {
    "colab": {
      "name": "Grocery_Model.ipynb",
      "provenance": []
    },
    "kernelspec": {
      "name": "python3",
      "display_name": "Python 3"
    },
    "accelerator": "TPU"
  },
  "cells": [
    {
      "cell_type": "markdown",
      "metadata": {
        "id": "NOmR9cQDQET9",
        "colab_type": "text"
      },
      "source": [
        "Capstone Project by Parvez Noorani"
      ]
    },
    {
      "cell_type": "markdown",
      "metadata": {
        "id": "viOs2WJmOSTX",
        "colab_type": "text"
      },
      "source": [
        "Model Building using"
      ]
    },
    {
      "cell_type": "markdown",
      "metadata": {
        "id": "ilBarAZKOJqC",
        "colab_type": "text"
      },
      "source": [
        "From the owners of Instacart as mentioned they are using XGBoost as one of their models for prediction."
      ]
    },
    {
      "cell_type": "markdown",
      "metadata": {
        "id": "8Ay3yl-PQgfJ",
        "colab_type": "text"
      },
      "source": [
        "Importing"
      ]
    },
    {
      "cell_type": "code",
      "metadata": {
        "id": "5A4tKPfAQOER",
        "colab_type": "code",
        "colab": {}
      },
      "source": [
        "import numpy as np\n",
        "import pandas as pd\n",
        "import xgboost as xgb\n",
        "from sklearn import metrics, model_selection"
      ],
      "execution_count": 0,
      "outputs": []
    },
    {
      "cell_type": "markdown",
      "metadata": {
        "id": "Ci5OuWsOQsMw",
        "colab_type": "text"
      },
      "source": [
        "We will predict which products purchased in previous order will be in next order"
      ]
    },
    {
      "cell_type": "code",
      "metadata": {
        "id": "-giaS4w1QiCx",
        "colab_type": "code",
        "outputId": "8c5e4286-74ec-4fec-8274-1e8477ae705a",
        "colab": {
          "base_uri": "https://localhost:8080/",
          "height": 197
        }
      },
      "source": [
        "orders_df=pd.read_csv(\"/content/drive/My Drive/Grocery/orders.csv\", usecols=[\"order_id\",\"user_id\",\"order_number\"])\n",
        "orders_df.head()"
      ],
      "execution_count": 0,
      "outputs": [
        {
          "output_type": "execute_result",
          "data": {
            "text/html": [
              "<div>\n",
              "<style scoped>\n",
              "    .dataframe tbody tr th:only-of-type {\n",
              "        vertical-align: middle;\n",
              "    }\n",
              "\n",
              "    .dataframe tbody tr th {\n",
              "        vertical-align: top;\n",
              "    }\n",
              "\n",
              "    .dataframe thead th {\n",
              "        text-align: right;\n",
              "    }\n",
              "</style>\n",
              "<table border=\"1\" class=\"dataframe\">\n",
              "  <thead>\n",
              "    <tr style=\"text-align: right;\">\n",
              "      <th></th>\n",
              "      <th>order_id</th>\n",
              "      <th>user_id</th>\n",
              "      <th>order_number</th>\n",
              "    </tr>\n",
              "  </thead>\n",
              "  <tbody>\n",
              "    <tr>\n",
              "      <th>0</th>\n",
              "      <td>2539329</td>\n",
              "      <td>1</td>\n",
              "      <td>1</td>\n",
              "    </tr>\n",
              "    <tr>\n",
              "      <th>1</th>\n",
              "      <td>2398795</td>\n",
              "      <td>1</td>\n",
              "      <td>2</td>\n",
              "    </tr>\n",
              "    <tr>\n",
              "      <th>2</th>\n",
              "      <td>473747</td>\n",
              "      <td>1</td>\n",
              "      <td>3</td>\n",
              "    </tr>\n",
              "    <tr>\n",
              "      <th>3</th>\n",
              "      <td>2254736</td>\n",
              "      <td>1</td>\n",
              "      <td>4</td>\n",
              "    </tr>\n",
              "    <tr>\n",
              "      <th>4</th>\n",
              "      <td>431534</td>\n",
              "      <td>1</td>\n",
              "      <td>5</td>\n",
              "    </tr>\n",
              "  </tbody>\n",
              "</table>\n",
              "</div>"
            ],
            "text/plain": [
              "   order_id  user_id  order_number\n",
              "0   2539329        1             1\n",
              "1   2398795        1             2\n",
              "2    473747        1             3\n",
              "3   2254736        1             4\n",
              "4    431534        1             5"
            ]
          },
          "metadata": {
            "tags": []
          },
          "execution_count": 2
        }
      ]
    },
    {
      "cell_type": "markdown",
      "metadata": {
        "id": "VUMqTPQdRiLf",
        "colab_type": "text"
      },
      "source": [
        "We will get the list of all products purchased by the customer"
      ]
    },
    {
      "cell_type": "code",
      "metadata": {
        "id": "IE97FmqtRQLw",
        "colab_type": "code",
        "colab": {}
      },
      "source": [
        "order_products__prior_df=pd.read_csv(\"/content/drive/My Drive/Grocery/order_products__prior.csv\")"
      ],
      "execution_count": 0,
      "outputs": []
    },
    {
      "cell_type": "markdown",
      "metadata": {
        "id": "NvhiFyr6SdbG",
        "colab_type": "text"
      },
      "source": [
        "Let's merge prior with orders and get the user_id"
      ]
    },
    {
      "cell_type": "code",
      "metadata": {
        "id": "5SiIB70SSG6j",
        "colab_type": "code",
        "colab": {}
      },
      "source": [
        "order_products__prior_df=pd.merge(order_products__prior_df,orders_df,how=\"inner\",on=\"order_id\")"
      ],
      "execution_count": 0,
      "outputs": []
    },
    {
      "cell_type": "code",
      "metadata": {
        "id": "RGeIC4P9SvPQ",
        "colab_type": "code",
        "colab": {}
      },
      "source": [
        "prior_groupd_df=order_products__prior_df.groupby(\"user_id\")[\"order_number\"].aggregate(\"max\").reset_index()"
      ],
      "execution_count": 0,
      "outputs": []
    },
    {
      "cell_type": "code",
      "metadata": {
        "id": "ktTTWzw7S1tf",
        "colab_type": "code",
        "colab": {}
      },
      "source": [
        "prior_df_new = pd.merge(order_products__prior_df, prior_groupd_df, how=\"inner\", on=[\"user_id\", \"order_number\"])"
      ],
      "execution_count": 0,
      "outputs": []
    },
    {
      "cell_type": "code",
      "metadata": {
        "id": "JqiXHCkOTLIm",
        "colab_type": "code",
        "colab": {}
      },
      "source": [
        "prior_df_new=prior_df_new[[\"user_id\",\"product_id\",\"reordered\"]]"
      ],
      "execution_count": 0,
      "outputs": []
    },
    {
      "cell_type": "code",
      "metadata": {
        "id": "OemAEdFUTR-O",
        "colab_type": "code",
        "outputId": "512040ac-7303-4915-f61a-7411bc350d3f",
        "colab": {
          "base_uri": "https://localhost:8080/",
          "height": 197
        }
      },
      "source": [
        "prior_df_new.columns=[\"user_id\",\"product_id\",\"reordered_latest\"]\n",
        "prior_df_new.head()"
      ],
      "execution_count": 0,
      "outputs": [
        {
          "output_type": "execute_result",
          "data": {
            "text/html": [
              "<div>\n",
              "<style scoped>\n",
              "    .dataframe tbody tr th:only-of-type {\n",
              "        vertical-align: middle;\n",
              "    }\n",
              "\n",
              "    .dataframe tbody tr th {\n",
              "        vertical-align: top;\n",
              "    }\n",
              "\n",
              "    .dataframe thead th {\n",
              "        text-align: right;\n",
              "    }\n",
              "</style>\n",
              "<table border=\"1\" class=\"dataframe\">\n",
              "  <thead>\n",
              "    <tr style=\"text-align: right;\">\n",
              "      <th></th>\n",
              "      <th>user_id</th>\n",
              "      <th>product_id</th>\n",
              "      <th>reordered_latest</th>\n",
              "    </tr>\n",
              "  </thead>\n",
              "  <tbody>\n",
              "    <tr>\n",
              "      <th>0</th>\n",
              "      <td>59897</td>\n",
              "      <td>9755</td>\n",
              "      <td>1</td>\n",
              "    </tr>\n",
              "    <tr>\n",
              "      <th>1</th>\n",
              "      <td>59897</td>\n",
              "      <td>31487</td>\n",
              "      <td>0</td>\n",
              "    </tr>\n",
              "    <tr>\n",
              "      <th>2</th>\n",
              "      <td>59897</td>\n",
              "      <td>37510</td>\n",
              "      <td>1</td>\n",
              "    </tr>\n",
              "    <tr>\n",
              "      <th>3</th>\n",
              "      <td>59897</td>\n",
              "      <td>14576</td>\n",
              "      <td>1</td>\n",
              "    </tr>\n",
              "    <tr>\n",
              "      <th>4</th>\n",
              "      <td>59897</td>\n",
              "      <td>22105</td>\n",
              "      <td>0</td>\n",
              "    </tr>\n",
              "  </tbody>\n",
              "</table>\n",
              "</div>"
            ],
            "text/plain": [
              "   user_id  product_id  reordered_latest\n",
              "0    59897        9755                 1\n",
              "1    59897       31487                 0\n",
              "2    59897       37510                 1\n",
              "3    59897       14576                 1\n",
              "4    59897       22105                 0"
            ]
          },
          "metadata": {
            "tags": []
          },
          "execution_count": 8
        }
      ]
    },
    {
      "cell_type": "markdown",
      "metadata": {
        "id": "ks-xZoeUTa6k",
        "colab_type": "text"
      },
      "source": [
        "Let's get the total count of each product and numbr of re-orders by customer"
      ]
    },
    {
      "cell_type": "code",
      "metadata": {
        "id": "WTzSkhgRTYHF",
        "colab_type": "code",
        "colab": {}
      },
      "source": [
        "order_products__prior_df = order_products__prior_df.groupby([\"user_id\",\"product_id\"])[\"reordered\"].aggregate([\"count\", \"sum\"]).reset_index()"
      ],
      "execution_count": 0,
      "outputs": []
    },
    {
      "cell_type": "code",
      "metadata": {
        "id": "EQLd2j8wT4XE",
        "colab_type": "code",
        "colab": {}
      },
      "source": [
        "order_products__prior_df.columns=[\"user_id\",\"product_id\",\"reordered_cnt\",\"reordered_sum\"]"
      ],
      "execution_count": 0,
      "outputs": []
    },
    {
      "cell_type": "markdown",
      "metadata": {
        "id": "njwM_jbE3kjm",
        "colab_type": "text"
      },
      "source": [
        "Merge prior with new"
      ]
    },
    {
      "cell_type": "code",
      "metadata": {
        "id": "0lPcvyT62Al2",
        "colab_type": "code",
        "outputId": "e6c8f9ac-90f2-4934-f605-f9ef624395bb",
        "colab": {
          "base_uri": "https://localhost:8080/",
          "height": 197
        }
      },
      "source": [
        "order_products__prior_df=pd.merge(order_products__prior_df,prior_df_new,how='left',on=['user_id','product_id'])\n",
        "order_products__prior_df.head()"
      ],
      "execution_count": 0,
      "outputs": [
        {
          "output_type": "execute_result",
          "data": {
            "text/html": [
              "<div>\n",
              "<style scoped>\n",
              "    .dataframe tbody tr th:only-of-type {\n",
              "        vertical-align: middle;\n",
              "    }\n",
              "\n",
              "    .dataframe tbody tr th {\n",
              "        vertical-align: top;\n",
              "    }\n",
              "\n",
              "    .dataframe thead th {\n",
              "        text-align: right;\n",
              "    }\n",
              "</style>\n",
              "<table border=\"1\" class=\"dataframe\">\n",
              "  <thead>\n",
              "    <tr style=\"text-align: right;\">\n",
              "      <th></th>\n",
              "      <th>user_id</th>\n",
              "      <th>product_id</th>\n",
              "      <th>reordered_cnt</th>\n",
              "      <th>reordered_sum</th>\n",
              "      <th>reordered_latest</th>\n",
              "    </tr>\n",
              "  </thead>\n",
              "  <tbody>\n",
              "    <tr>\n",
              "      <th>0</th>\n",
              "      <td>1</td>\n",
              "      <td>196</td>\n",
              "      <td>10</td>\n",
              "      <td>9</td>\n",
              "      <td>1.0</td>\n",
              "    </tr>\n",
              "    <tr>\n",
              "      <th>1</th>\n",
              "      <td>1</td>\n",
              "      <td>10258</td>\n",
              "      <td>9</td>\n",
              "      <td>8</td>\n",
              "      <td>1.0</td>\n",
              "    </tr>\n",
              "    <tr>\n",
              "      <th>2</th>\n",
              "      <td>1</td>\n",
              "      <td>10326</td>\n",
              "      <td>1</td>\n",
              "      <td>0</td>\n",
              "      <td>NaN</td>\n",
              "    </tr>\n",
              "    <tr>\n",
              "      <th>3</th>\n",
              "      <td>1</td>\n",
              "      <td>12427</td>\n",
              "      <td>10</td>\n",
              "      <td>9</td>\n",
              "      <td>1.0</td>\n",
              "    </tr>\n",
              "    <tr>\n",
              "      <th>4</th>\n",
              "      <td>1</td>\n",
              "      <td>13032</td>\n",
              "      <td>3</td>\n",
              "      <td>2</td>\n",
              "      <td>1.0</td>\n",
              "    </tr>\n",
              "  </tbody>\n",
              "</table>\n",
              "</div>"
            ],
            "text/plain": [
              "   user_id  product_id  reordered_cnt  reordered_sum  reordered_latest\n",
              "0        1         196             10              9               1.0\n",
              "1        1       10258              9              8               1.0\n",
              "2        1       10326              1              0               NaN\n",
              "3        1       12427             10              9               1.0\n",
              "4        1       13032              3              2               1.0"
            ]
          },
          "metadata": {
            "tags": []
          },
          "execution_count": 11
        }
      ]
    },
    {
      "cell_type": "markdown",
      "metadata": {
        "id": "sRqBs8_M38cS",
        "colab_type": "text"
      },
      "source": [
        "Let's now read the train and sample submission data and merge with order data to get userid for orderid"
      ]
    },
    {
      "cell_type": "code",
      "metadata": {
        "id": "1s-lFczW3T0q",
        "colab_type": "code",
        "colab": {}
      },
      "source": [
        "orders_df.drop([\"order_number\"],axis=1,inplace=True)"
      ],
      "execution_count": 0,
      "outputs": []
    },
    {
      "cell_type": "code",
      "metadata": {
        "id": "M1cosO6s4OwC",
        "colab_type": "code",
        "colab": {}
      },
      "source": [
        "order_products__train_df=pd.read_csv(\"/content/drive/My Drive/Grocery/order_products__train.csv\",usecols= ['order_id'])"
      ],
      "execution_count": 0,
      "outputs": []
    },
    {
      "cell_type": "code",
      "metadata": {
        "id": "yHkkGxFg4nQQ",
        "colab_type": "code",
        "colab": {}
      },
      "source": [
        "order_products__train_df=order_products__train_df.groupby('order_id').agg(\"count\").reset_index()"
      ],
      "execution_count": 0,
      "outputs": []
    },
    {
      "cell_type": "code",
      "metadata": {
        "id": "Ho4YFsl24wtQ",
        "colab_type": "code",
        "colab": {}
      },
      "source": [
        "sample_submission_df=pd.read_csv(\"/content/drive/My Drive/Grocery/sample_submission.csv\",usecols= ['order_id'])"
      ],
      "execution_count": 0,
      "outputs": []
    },
    {
      "cell_type": "code",
      "metadata": {
        "id": "q8B6p3sh5kfc",
        "colab_type": "code",
        "colab": {}
      },
      "source": [
        "order_products__train_df = pd.merge(order_products__train_df, orders_df, how=\"inner\", on=\"order_id\")"
      ],
      "execution_count": 0,
      "outputs": []
    },
    {
      "cell_type": "code",
      "metadata": {
        "id": "uR7Jv8ok5t98",
        "colab_type": "code",
        "colab": {}
      },
      "source": [
        "sample_submission_df = pd.merge(sample_submission_df, orders_df, how=\"inner\", on=\"order_id\")"
      ],
      "execution_count": 0,
      "outputs": []
    },
    {
      "cell_type": "code",
      "metadata": {
        "id": "XR9H6gc_55fs",
        "colab_type": "code",
        "colab": {}
      },
      "source": [
        "test_df=sample_submission_df"
      ],
      "execution_count": 0,
      "outputs": []
    },
    {
      "cell_type": "code",
      "metadata": {
        "id": "m-bsWnVH6D7L",
        "colab_type": "code",
        "outputId": "58dbbe08-a2fe-46f9-9071-df2ce5751bfd",
        "colab": {
          "base_uri": "https://localhost:8080/",
          "height": 33
        }
      },
      "source": [
        "print(order_products__train_df.shape, test_df.shape)"
      ],
      "execution_count": 0,
      "outputs": [
        {
          "output_type": "stream",
          "text": [
            "(131209, 2) (75000, 2)\n"
          ],
          "name": "stdout"
        }
      ]
    },
    {
      "cell_type": "markdown",
      "metadata": {
        "id": "CXKHPqEB6MSE",
        "colab_type": "text"
      },
      "source": [
        "Now we will merge train and test(sample submission) data with prior data to get products purchase history previously by custmr."
      ]
    },
    {
      "cell_type": "code",
      "metadata": {
        "id": "4MV1AM9n6GEi",
        "colab_type": "code",
        "outputId": "5af3ce99-9c04-40eb-a78d-228b9635f3eb",
        "colab": {
          "base_uri": "https://localhost:8080/",
          "height": 33
        }
      },
      "source": [
        "order_products__train_df = pd.merge(order_products__train_df, order_products__prior_df, how=\"inner\", on=\"user_id\")\n",
        "test_df = pd.merge(test_df, order_products__prior_df, how=\"inner\", on=\"user_id\")\n",
        "del order_products__prior_df, prior_groupd_df, prior_df_new\n",
        "print(order_products__train_df.shape, test_df.shape)"
      ],
      "execution_count": 0,
      "outputs": [
        {
          "output_type": "stream",
          "text": [
            "(8474661, 6) (4833292, 6)\n"
          ],
          "name": "stdout"
        }
      ]
    },
    {
      "cell_type": "markdown",
      "metadata": {
        "id": "HrQJSuijEcc7",
        "colab_type": "text"
      },
      "source": [
        "We will now merge train and test on products data as it has department name and aisle"
      ]
    },
    {
      "cell_type": "code",
      "metadata": {
        "id": "UaaGgGVh6_Hf",
        "colab_type": "code",
        "outputId": "0ce31725-d337-4239-c75c-876d24541f30",
        "colab": {
          "base_uri": "https://localhost:8080/",
          "height": 33
        }
      },
      "source": [
        "products_df=pd.read_csv(\"/content/drive/My Drive/Grocery/products.csv\", usecols=[\"product_id\", \"aisle_id\", \"department_id\"])\n",
        "order_products__train_df = pd.merge(order_products__train_df, products_df, how=\"inner\", on=\"product_id\")\n",
        "test_df = pd.merge(test_df, products_df, how=\"inner\", on=\"product_id\")\n",
        "del products_df\n",
        "print(order_products__train_df.shape, test_df.shape)"
      ],
      "execution_count": 0,
      "outputs": [
        {
          "output_type": "stream",
          "text": [
            "(8474661, 8) (4833292, 8)\n"
          ],
          "name": "stdout"
        }
      ]
    },
    {
      "cell_type": "markdown",
      "metadata": {
        "id": "As9f9KFJJQUY",
        "colab_type": "text"
      },
      "source": [
        "So, we have all products purchased by customer with necessary features.  Now we will use train data to find if product has been re-ordered in next order"
      ]
    },
    {
      "cell_type": "code",
      "metadata": {
        "id": "lxBxnSEHJB-5",
        "colab_type": "code",
        "colab": {}
      },
      "source": [
        "order_products__train_y_df=pd.read_csv(\"/content/drive/My Drive/Grocery/order_products__train.csv\",usecols = [ 'order_id' ,'product_id','reordered'])"
      ],
      "execution_count": 0,
      "outputs": []
    },
    {
      "cell_type": "code",
      "metadata": {
        "id": "qOMVGkhtKgpk",
        "colab_type": "code",
        "colab": {}
      },
      "source": [
        "order_products__train_y_df = pd.merge(order_products__train_y_df, orders_df, how=\"inner\", on=\"order_id\")"
      ],
      "execution_count": 0,
      "outputs": []
    },
    {
      "cell_type": "code",
      "metadata": {
        "id": "1-sPpIjKKn4V",
        "colab_type": "code",
        "colab": {}
      },
      "source": [
        "order_products__train_y_df = order_products__train_y_df[[\"user_id\", \"product_id\", \"reordered\"]]"
      ],
      "execution_count": 0,
      "outputs": []
    },
    {
      "cell_type": "code",
      "metadata": {
        "id": "LGhOa60RK93E",
        "colab_type": "code",
        "colab": {}
      },
      "source": [
        "order_products__train_df=pd.merge(order_products__train_df,order_products__train_y_df,how='left',on = ['user_id','product_id' ])\n",
        "order_products__train_df[ 'reordered' ].fillna(0, inplace = True)"
      ],
      "execution_count": 0,
      "outputs": []
    },
    {
      "cell_type": "code",
      "metadata": {
        "id": "ct91mcqaLX7K",
        "colab_type": "code",
        "outputId": "eb363bd3-d6ba-47de-c9ab-c377eefd548d",
        "colab": {
          "base_uri": "https://localhost:8080/",
          "height": 33
        }
      },
      "source": [
        "print(order_products__train_df.shape)"
      ],
      "execution_count": 0,
      "outputs": [
        {
          "output_type": "stream",
          "text": [
            "(8474661, 9)\n"
          ],
          "name": "stdout"
        }
      ]
    },
    {
      "cell_type": "code",
      "metadata": {
        "id": "6OE-T_FtLe5x",
        "colab_type": "code",
        "colab": {}
      },
      "source": [
        "del order_products__train_y_df"
      ],
      "execution_count": 0,
      "outputs": []
    },
    {
      "cell_type": "markdown",
      "metadata": {
        "id": "VzMFwd2BMUjr",
        "colab_type": "text"
      },
      "source": [
        "Target variable for train set"
      ]
    },
    {
      "cell_type": "code",
      "metadata": {
        "id": "jkz9YKM-Lv-p",
        "colab_type": "code",
        "colab": {}
      },
      "source": [
        "order_products__train_y_df=order_products__train_df.reordered.values"
      ],
      "execution_count": 0,
      "outputs": []
    },
    {
      "cell_type": "code",
      "metadata": {
        "id": "nCXreoD6Q0-t",
        "colab_type": "code",
        "colab": {}
      },
      "source": [
        "train_y=order_products__train_y_df"
      ],
      "execution_count": 0,
      "outputs": []
    },
    {
      "cell_type": "markdown",
      "metadata": {
        "id": "CYeR36IFMmS2",
        "colab_type": "text"
      },
      "source": [
        "df for test-set prediction"
      ]
    },
    {
      "cell_type": "code",
      "metadata": {
        "id": "DfBEMAoeMjg2",
        "colab_type": "code",
        "colab": {}
      },
      "source": [
        "test_set_df=test_df[['order_id','product_id']]"
      ],
      "execution_count": 0,
      "outputs": []
    },
    {
      "cell_type": "markdown",
      "metadata": {
        "id": "_41eD3VmQCnv",
        "colab_type": "text"
      },
      "source": [
        "now we will drop the un-necessary columns"
      ]
    },
    {
      "cell_type": "code",
      "metadata": {
        "id": "O-giaY0DQBgT",
        "colab_type": "code",
        "outputId": "7d5ab206-c048-4cfb-905b-6cd572890b42",
        "colab": {
          "base_uri": "https://localhost:8080/",
          "height": 33
        }
      },
      "source": [
        "order_products__train_df = np.array(order_products__train_df.drop([\"order_id\", \"user_id\", \"reordered\"], axis=1))\n",
        "test_df = np.array(test_df.drop([\"order_id\", \"user_id\"], axis=1))\n",
        "print(order_products__train_df.shape, test_df.shape)"
      ],
      "execution_count": 0,
      "outputs": [
        {
          "output_type": "stream",
          "text": [
            "(8474661, 6) (4833292, 6)\n"
          ],
          "name": "stdout"
        }
      ]
    },
    {
      "cell_type": "code",
      "metadata": {
        "id": "izIl5XZrS99W",
        "colab_type": "code",
        "colab": {}
      },
      "source": [
        "train_df=order_products__train_df"
      ],
      "execution_count": 0,
      "outputs": []
    },
    {
      "cell_type": "markdown",
      "metadata": {
        "id": "XZwX0FL1QfR1",
        "colab_type": "text"
      },
      "source": [
        "Define function to run XGBoost Model"
      ]
    },
    {
      "cell_type": "code",
      "metadata": {
        "id": "tkVU26Z1QcvG",
        "colab_type": "code",
        "colab": {}
      },
      "source": [
        "def runXGB(train_X, train_y, test_X, test_y=None, feature_names=None, seed_val=0):\n",
        "        params={}\n",
        "        params['objective']='binary:logistic'\n",
        "        params[\"eval_metric\"]=\"logloss\"\n",
        "        params['eta']=0.05\n",
        "        params['subsample']=0.7\n",
        "        params['min_child_weight']=10\n",
        "        params['colsample_bytree']=0.7\n",
        "        params['max_depth']=8\n",
        "        params['silent']=1\n",
        "        params['seed']=seed_val\n",
        "        num_rounds=100\n",
        "        plst=list(params.items())\n",
        "        xgtrain=xgb.DMatrix(train_X,label = train_y)\n",
        "\n",
        "        if test_y is not None:\n",
        "                xgtest=xgb.DMatrix(test_X, label = test_y)\n",
        "                watchlist=[(xgtrain,\"train\"),(xgtest,\"test\") ]\n",
        "                model=xgb.train(plst,xgtrain,num_rounds,watchlist,early_stopping_rounds=50,verbose_eval=10)\n",
        "        else:\n",
        "                xgtest=xgb.DMatrix(test_X)\n",
        "                model=xgb.train(plst,xgtrain,num_rounds)\n",
        "\n",
        "        pred_test_y=model.predict(xgtest)\n",
        "        return pred_test_y"
      ],
      "execution_count": 0,
      "outputs": []
    },
    {
      "cell_type": "markdown",
      "metadata": {
        "id": "Nq5FqEgxSrtg",
        "colab_type": "text"
      },
      "source": [
        "Let us run the XGB Model We use cut-off value toget prediction\n"
      ]
    },
    {
      "cell_type": "code",
      "metadata": {
        "id": "JqeeoZ4ORx4z",
        "colab_type": "code",
        "colab": {}
      },
      "source": [
        "pred=runXGB(train_df,train_y,test_df)\n",
        "del train_df,test_df\n",
        "cutoff = 0.2\n",
        "pred[pred>=cutoff] = 1\n",
        "pred[pred<cutoff] = 0\n",
        "test_set_df[\"Pred\"] = pred\n",
        "test_set_df = test_set_df.loc[test_set_df[\"Pred\"].astype('int')==1]"
      ],
      "execution_count": 0,
      "outputs": []
    },
    {
      "cell_type": "markdown",
      "metadata": {
        "id": "cOpZSHIKTLT4",
        "colab_type": "text"
      },
      "source": [
        "Now we will merge which has more than 1 product to a single string"
      ]
    },
    {
      "cell_type": "code",
      "metadata": {
        "id": "XXPLYHdkTKry",
        "colab_type": "code",
        "colab": {}
      },
      "source": [
        "def merge_products(x):\n",
        "    return \" \".join(list(x.astype('str')))\n",
        "test_set_df=test_set_df.groupby(\"order_id\")[\"product_id\"].agg(merge_products).reset_index()\n",
        "test_set_df.columns=[\"order_id\", \"products\"]"
      ],
      "execution_count": 0,
      "outputs": []
    },
    {
      "cell_type": "code",
      "metadata": {
        "id": "mIfu49wnULbE",
        "colab_type": "code",
        "colab": {}
      },
      "source": [
        "sbmt_df=pd.read_csv('/content/drive/My Drive/Grocery/sample_submission.csv',usecols=['order_id'])\n",
        "sbmt_df=pd.merge(sbmt_df,test_set_df,how='left',on='order_id')"
      ],
      "execution_count": 0,
      "outputs": []
    },
    {
      "cell_type": "markdown",
      "metadata": {
        "id": "Nr8syfSpZFTz",
        "colab_type": "text"
      },
      "source": [
        "when no preidctions fill it with none"
      ]
    },
    {
      "cell_type": "code",
      "metadata": {
        "id": "cvwDFCJUYxoc",
        "colab_type": "code",
        "colab": {}
      },
      "source": [
        "sbmt_df[\"products\"].fillna(\"None\",inplace=True)"
      ],
      "execution_count": 0,
      "outputs": []
    },
    {
      "cell_type": "code",
      "metadata": {
        "id": "0OTRAKZeZRRg",
        "colab_type": "code",
        "outputId": "568292e6-bcf9-40e6-bc0a-a9715121c48b",
        "colab": {
          "base_uri": "https://localhost:8080/",
          "height": 197
        }
      },
      "source": [
        "sbmt_df.head()"
      ],
      "execution_count": 0,
      "outputs": [
        {
          "output_type": "execute_result",
          "data": {
            "text/html": [
              "<div>\n",
              "<style scoped>\n",
              "    .dataframe tbody tr th:only-of-type {\n",
              "        vertical-align: middle;\n",
              "    }\n",
              "\n",
              "    .dataframe tbody tr th {\n",
              "        vertical-align: top;\n",
              "    }\n",
              "\n",
              "    .dataframe thead th {\n",
              "        text-align: right;\n",
              "    }\n",
              "</style>\n",
              "<table border=\"1\" class=\"dataframe\">\n",
              "  <thead>\n",
              "    <tr style=\"text-align: right;\">\n",
              "      <th></th>\n",
              "      <th>order_id</th>\n",
              "      <th>products</th>\n",
              "    </tr>\n",
              "  </thead>\n",
              "  <tbody>\n",
              "    <tr>\n",
              "      <th>0</th>\n",
              "      <td>17</td>\n",
              "      <td>13107 21463</td>\n",
              "    </tr>\n",
              "    <tr>\n",
              "      <th>1</th>\n",
              "      <td>34</td>\n",
              "      <td>47766 2596 13176 16083 39180 39475 44632 44663...</td>\n",
              "    </tr>\n",
              "    <tr>\n",
              "      <th>2</th>\n",
              "      <td>137</td>\n",
              "      <td>5134 2326 23794 24852 25890 29594 41787</td>\n",
              "    </tr>\n",
              "    <tr>\n",
              "      <th>3</th>\n",
              "      <td>182</td>\n",
              "      <td>21903 39275 9337 27104 5479 13629 32109 33000 ...</td>\n",
              "    </tr>\n",
              "    <tr>\n",
              "      <th>4</th>\n",
              "      <td>257</td>\n",
              "      <td>39475 24852 27104 49235 27966 29837 30233 3573...</td>\n",
              "    </tr>\n",
              "  </tbody>\n",
              "</table>\n",
              "</div>"
            ],
            "text/plain": [
              "   order_id                                           products\n",
              "0        17                                        13107 21463\n",
              "1        34  47766 2596 13176 16083 39180 39475 44632 44663...\n",
              "2       137            5134 2326 23794 24852 25890 29594 41787\n",
              "3       182  21903 39275 9337 27104 5479 13629 32109 33000 ...\n",
              "4       257  39475 24852 27104 49235 27966 29837 30233 3573..."
            ]
          },
          "metadata": {
            "tags": []
          },
          "execution_count": 38
        }
      ]
    },
    {
      "cell_type": "code",
      "metadata": {
        "id": "nI6rRRsZZLN-",
        "colab_type": "code",
        "colab": {}
      },
      "source": [
        "sbmt_df.to_csv(\"xgb_submission_file.csv\", index=False)"
      ],
      "execution_count": 0,
      "outputs": []
    }
  ]
}